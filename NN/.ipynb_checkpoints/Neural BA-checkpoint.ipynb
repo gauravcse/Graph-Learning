{
 "cells": [
  {
   "cell_type": "code",
   "execution_count": 142,
   "metadata": {
    "collapsed": true
   },
   "outputs": [],
   "source": [
    "import numpy as np\n",
    "import matplotlib.pyplot as plt\n",
    "import networkx as nx\n",
    "import random\n",
    "import operator"
   ]
  },
  {
   "cell_type": "code",
   "execution_count": 152,
   "metadata": {
    "collapsed": true
   },
   "outputs": [],
   "source": [
    "class Neural(object) :\n",
    "    def __init__(self,train) :\n",
    "        self.inputLayer = 4\n",
    "        self.hiddenLayerOne = 5\n",
    "        self.hiddenLayerTwo = 5\n",
    "        self.outputLayer = 1\n",
    "        self.eta = 0.15    #LEARNING RATE\n",
    "        self.W1 = np.random.randn(self.hiddenLayerOne,self.inputLayer)\n",
    "        self.W2 = np.random.randn(self.hiddenLayerTwo,self.hiddenLayerOne)\n",
    "        self.W3 = np.random.randn(self.outputLayer,self.hiddenLayerTwo)\n",
    "        self.training = train\n",
    "        self.data = Dataset(self.training)\n",
    "        for i in xrange(self.training) :\n",
    "            self.Xmatrix = self.data.get_data()[i].get_X()\n",
    "            self.Ymatrix = self.data.get_data()[i].get_Y()\n",
    "            for j in xrange(len(self.Ymatrix)):\n",
    "                self.forward_propagation(np.transpose(self.Xmatrix[[j],:]))\n",
    "                self.backpropagation(self.Ymatrix[j])\n",
    "    def sigmoid(self,z) :\n",
    "        return 1.0/(1.0+ np.exp(-z))\n",
    "    def dsigmoid(self,z) :\n",
    "        return np.dot((self.sigmoid(z)), (1 - self.sigmoid(z)))\n",
    "    def cost_function(sekf,y,yHat) :\n",
    "        return np.dot((y - np.transpose(yHat)),np.transpose(y - np.transpose(yHat)))\n",
    "    def forward_propagation(self,X) :\n",
    "        self.z2 = np.dot(self.W1,X)\n",
    "        #print \"Z2 : \",self.z2\n",
    "        self.a2 = self.sigmoid(self.z2)\n",
    "        #print \"A2 : \",self.a2\n",
    "        self.z3 = np.dot(self.W2,self.a2)\n",
    "        #print \"Z3 : \",self.z3\n",
    "        self.a3 = self.sigmoid(self.z3)\n",
    "        #print \"A3 : \",self.a3\n",
    "        self.z4 = np.dot(self.W3,self.a3)\n",
    "        #print \"Z4 : \",self.z4\n",
    "        self.a4 = self.sigmoid(self.z4)\n",
    "        #print \"A4 : \",self.a4\n",
    "        self.yHat = np.sum(self.a4)\n",
    "        #print \"yHat : \",self.yHat\n",
    "    def backpropagation(self,Y) :\n",
    "        self.lasterror = np.dot(np.dot(self.yHat,1.0-self.yHat),self.yHat - Y)\n",
    "        self.twoerror = np.multiply(np.dot(np.transpose(self.W3),self.lasterror),np.multiply(self.a4,1.0-self.a4))\n",
    "        #print np.shape(x.twoerror)\n",
    "        self.oneerror = np.multiply(np.dot(np.transpose(self.W2),self.twoerror),np.multiply(self.a3,1.0-self.a3))\n",
    "        #self.zeroerror = np.multiply(np.dot(np.transpose(self.W1),self.oneerror),np.multiply(self.a2,1.0-self.a2))\n",
    "        #print self.lasterror,self.twoerror,self.oneerror,self.zeroerror\n",
    "        return self.gradient_descent()\n",
    "    def gradient_descent(self) :\n",
    "        self.W1 = self.W1 - np.dot(self.eta*np.transpose((self.oneerror)),self.a2)\n",
    "        self.W2 = self.W2 - np.dot(self.eta*np.transpose(self.oneerror),self.a3)\n",
    "        self.W3 = self.W3 - np.transpose(self.twoerror)\n",
    "    def test(self,X) :\n",
    "        self.forward_propagation(X)\n",
    "        return self.z4"
   ]
  },
  {
   "cell_type": "code",
   "execution_count": 153,
   "metadata": {
    "collapsed": true
   },
   "outputs": [],
   "source": [
    "class Data(object) :\n",
    "    def __init__(self) :\n",
    "        self.g = nx.barabasi_albert_graph(random.randint(100,1000),random.randint(2,7))\n",
    "        self.degree_centrality = nx.degree_centrality(self.g)\n",
    "        self.deg = nx.degree_centrality(self.g)\n",
    "        self.sorted_deg = sorted(self.deg.items(), key=operator.itemgetter(1))\n",
    "        self.nodes = len(self.g.nodes())\n",
    "        self.edges = len(self.g.edges())\n",
    "        self.degree_rank()\n",
    "        self.degree_dict = self.g.degree()\n",
    "        self.avg_deg = sum(self.g.degree().values())/float(len(self.g.nodes()))\n",
    "        #print self.rank\n",
    "        #print self.degree_dict\n",
    "        self.form_dataset()\n",
    "    def degree_rank(self) :\n",
    "        self.sorted_deg = sorted(self.deg.items(), key=operator.itemgetter(1))\n",
    "        count = 1\n",
    "        self.rank = dict()\n",
    "        self.rank[self.sorted_deg[0][0]] = len(self.sorted_deg)\n",
    "        for i in xrange(1,len(self.sorted_deg)) :\n",
    "            if self.sorted_deg[i-1][1] == self.sorted_deg[i][1] :\n",
    "                self.rank[self.sorted_deg[i][0]] = self.rank[self.sorted_deg[i-1][0]]\n",
    "                count += 1\n",
    "            else :\n",
    "                self.rank[self.sorted_deg[i][0]] = self.rank[self.sorted_deg[i-1][0]] - count\n",
    "                count = 1\n",
    "    def form_dataset(self) :\n",
    "        #print len(self.rank),len(self.degree_dict)\n",
    "        self.X = np.zeros((self.nodes,4),dtype='float')\n",
    "        self.Y = np.zeros(self.nodes)\n",
    "        for i in xrange(self.nodes) :\n",
    "            self.X[i][0] = self.nodes\n",
    "            self.X[i][1] = self.edges\n",
    "            self.X[i][2] = self.avg_deg\n",
    "            self.X[i][3] = self.degree_dict[i]\n",
    "            self.Y[i] = self.rank[i]\n",
    "    def get_X(self) :\n",
    "        return self.X\n",
    "    def get_Y(self) :\n",
    "        return self.Y"
   ]
  },
  {
   "cell_type": "code",
   "execution_count": 154,
   "metadata": {
    "collapsed": true
   },
   "outputs": [],
   "source": [
    "class Dataset(object) :\n",
    "    def __init__(self,train):\n",
    "        self.items = train\n",
    "        self.training_data = list()\n",
    "        for i in xrange(train):\n",
    "            data = Data()\n",
    "            self.training_data.append(data)\n",
    "    def get_data(self):\n",
    "        return self.training_data"
   ]
  },
  {
   "cell_type": "code",
   "execution_count": 155,
   "metadata": {
    "collapsed": false
   },
   "outputs": [
    {
     "name": "stderr",
     "output_type": "stream",
     "text": [
      "C:\\Users\\Gaurav Mitra\\Anaconda2\\lib\\site-packages\\ipykernel\\__main__.py:20: RuntimeWarning: overflow encountered in exp\n"
     ]
    }
   ],
   "source": [
    "n = Neural(10)"
   ]
  },
  {
   "cell_type": "code",
   "execution_count": 156,
   "metadata": {
    "collapsed": false
   },
   "outputs": [
    {
     "name": "stdout",
     "output_type": "stream",
     "text": [
      "[[ 0.22306001  0.39186047 -0.52913324  0.20693456]\n",
      " [ 0.21897345 -0.11572327  1.5123981   2.59071006]\n",
      " [ 0.80737821 -0.67667031  1.016949    1.61685558]\n",
      " [ 0.11389093  0.99043166  0.70014356  0.80350995]\n",
      " [-0.24252891  0.27707651 -1.28681476 -0.49970726]]\n"
     ]
    }
   ],
   "source": [
    "print n.W1"
   ]
  },
  {
   "cell_type": "code",
   "execution_count": 157,
   "metadata": {
    "collapsed": false
   },
   "outputs": [
    {
     "name": "stdout",
     "output_type": "stream",
     "text": [
      "[[ 0.69370077  0.67255116  1.31820713  1.70671542  2.01100363]\n",
      " [ 0.24151733  1.90327968  1.65194948  1.07901439 -0.0761451 ]\n",
      " [ 0.20635964  1.07337859  0.87039756  2.26009144  0.91785866]\n",
      " [ 0.62077606  2.90186136  0.55165309  0.06835036 -0.3471737 ]\n",
      " [ 1.051735    1.82514366  1.79925195  2.14677914  2.60431308]]\n"
     ]
    }
   ],
   "source": [
    "print n.W2"
   ]
  },
  {
   "cell_type": "code",
   "execution_count": 158,
   "metadata": {
    "collapsed": false
   },
   "outputs": [
    {
     "name": "stdout",
     "output_type": "stream",
     "text": [
      "[[-17.62899974  -6.11360884   6.59758703   0.36682235   2.82723603]]\n"
     ]
    }
   ],
   "source": [
    "print n.W3"
   ]
  },
  {
   "cell_type": "code",
   "execution_count": 159,
   "metadata": {
    "collapsed": false
   },
   "outputs": [],
   "source": [
    "d = Data()\n",
    "X = d.get_X()[100]\n",
    "Y = d.get_Y()[100]"
   ]
  },
  {
   "cell_type": "code",
   "execution_count": 160,
   "metadata": {
    "collapsed": false
   },
   "outputs": [
    {
     "name": "stdout",
     "output_type": "stream",
     "text": [
      "[-12.74929345] 62.0\n"
     ]
    },
    {
     "name": "stderr",
     "output_type": "stream",
     "text": [
      "C:\\Users\\Gaurav Mitra\\Anaconda2\\lib\\site-packages\\ipykernel\\__main__.py:20: RuntimeWarning: overflow encountered in exp\n"
     ]
    }
   ],
   "source": [
    "print n.test(X),Y"
   ]
  },
  {
   "cell_type": "code",
   "execution_count": null,
   "metadata": {
    "collapsed": false
   },
   "outputs": [],
   "source": []
  },
  {
   "cell_type": "code",
   "execution_count": null,
   "metadata": {
    "collapsed": true
   },
   "outputs": [],
   "source": []
  }
 ],
 "metadata": {
  "kernelspec": {
   "display_name": "Python 2",
   "language": "python",
   "name": "python2"
  },
  "language_info": {
   "codemirror_mode": {
    "name": "ipython",
    "version": 2
   },
   "file_extension": ".py",
   "mimetype": "text/x-python",
   "name": "python",
   "nbconvert_exporter": "python",
   "pygments_lexer": "ipython2",
   "version": "2.7.11"
  }
 },
 "nbformat": 4,
 "nbformat_minor": 0
}
