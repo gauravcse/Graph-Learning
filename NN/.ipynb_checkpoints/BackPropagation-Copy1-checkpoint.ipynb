{
 "cells": [
  {
   "cell_type": "code",
   "execution_count": 1,
   "metadata": {
    "collapsed": true
   },
   "outputs": [],
   "source": [
    "import numpy as np\n",
    "import matplotlib.pyplot as plt\n",
    "import networkx as nx\n",
    "import random\n",
    "import operator"
   ]
  },
  {
   "cell_type": "code",
   "execution_count": 41,
   "metadata": {
    "collapsed": false
   },
   "outputs": [],
   "source": [
    "class Neural(object) :\n",
    "    def __init__(self) :\n",
    "        self.inputLayer = 4\n",
    "        self.hiddenLayerOne = 5\n",
    "        self.hiddenLayerTwo = 5\n",
    "        self.outputLayer = 1\n",
    "        self.eta = 0.15    #LEARNING RATE\n",
    "        self.W1 = np.random.randn(self.hiddenLayerOne,self.inputLayer)\n",
    "        self.W2 = np.random.randn(self.hiddenLayerTwo,self.hiddenLayerOne)\n",
    "        self.W3 = np.random.randn(self.outputLayer,self.hiddenLayerTwo)\n",
    "        \n",
    "    def sigmoid(self,z) :\n",
    "        return 1.0/(1.0+ np.exp(-z))\n",
    "    def dsigmoid(self,z) :\n",
    "        return np.dot((self.sigmoid(z)), (1 - self.sigmoid(z)))\n",
    "    def cost_function(sekf,y,yHat) :\n",
    "        return np.dot((y - np.transpose(yHat)),np.transpose(y - np.transpose(yHat)))\n",
    "    def forward_propagation(self,X) :\n",
    "        self.z2 = np.dot(self.W1,X)\n",
    "        print \"Z2 : \",self.z2\n",
    "        self.a2 = self.sigmoid(self.z2)\n",
    "        print \"A2 : \",self.a2\n",
    "        self.z3 = np.dot(self.W2,self.a2)\n",
    "        print \"Z3 : \",self.z3\n",
    "        self.a3 = self.sigmoid(self.z3)\n",
    "        print \"A3 : \",self.a3\n",
    "        self.z4 = np.dot(self.W3,self.a3)\n",
    "        print \"Z4 : \",self.z4\n",
    "        self.a4 = self.sigmoid(self.z4)\n",
    "        print \"A4 : \",self.a4\n",
    "        self.yHat = np.sum(self.a4)\n",
    "        print \"yHat : \",self.yHat\n",
    "    def backpropagation(self,Y) :\n",
    "        self.lasterror = np.dot(np.dot(self.yHat,1.0-self.yHat),self.yHat - Y)\n",
    "        self.twoerror = np.multiply(np.transpose(self.W3)*self.lasterror,np.multiply(self.a4,1.0-self.a4))\n",
    "        #print np.shape(x.twoerror)\n",
    "        self.oneerror = np.multiply(np.transpose(self.W2)*self.twoerror,np.multiply(self.a3,1.0-self.a3))\n",
    "        print np.shape(self.W1),self.oneerror\n",
    "        self.zeroerror = np.multiply(np.transpose(self.W1)*self.oneerror,np.multiply(self.a2,1.0-self.a2))\n",
    "        #print self.lasterror,self.twoerror,self.oneerror,self.zeroerror\n",
    "        return self.gradient_descent()\n",
    "    def gradient_descent(self) :\n",
    "        self.W1 = self.W1 + np.transpose((self.zeroerror))\n",
    "        self.W2 = self.W2 + np.transpose(self.eta*self.oneerror)\n",
    "        self.W3 = self.W3 + np.transpose(self.eta*self.twoerror)"
   ]
  },
  {
   "cell_type": "code",
   "execution_count": 42,
   "metadata": {
    "collapsed": false
   },
   "outputs": [
    {
     "name": "stdout",
     "output_type": "stream",
     "text": [
      "Z2 :  [ -8.80195531 -20.07847255   6.94739837   6.52678306  12.27329595]\n",
      "A2 :  [  1.50416004e-04   1.90559308e-09   9.99039790e-01   9.98538432e-01\n",
      "   9.99995325e-01]\n",
      "Z3 :  [ 0.2462584  -0.29012882  1.06795065  2.52622274  2.10818165]\n",
      "A3 :  [ 0.56125535  0.42797233  0.74420699  0.92595981  0.89169585]\n",
      "Z4 :  [ 0.95196751]\n",
      "A4 :  [ 0.72151069]\n",
      "yHat :  0.721510687942\n"
     ]
    }
   ],
   "source": [
    "n = Neural()\n",
    "n.forward_propagation(np.array([2.0,3.0,4.0,1.0]))"
   ]
  },
  {
   "cell_type": "code",
   "execution_count": 43,
   "metadata": {
    "collapsed": false
   },
   "outputs": [
    {
     "name": "stdout",
     "output_type": "stream",
     "text": [
      "(5L, 4L) [[  4.87164464e-03   3.24200729e-05   2.08388081e-03  -7.17941068e-04\n",
      "   -1.19070956e-03]\n",
      " [  2.87147994e-03   4.70758158e-03   4.62805384e-03  -8.03414477e-05\n",
      "    1.24808901e-03]\n",
      " [ -1.64340646e-02  -2.97416904e-02   2.07522930e-02  -1.72468595e-03\n",
      "    2.51261994e-02]\n",
      " [ -1.12033988e-02  -1.69768733e-01  -3.69215188e-02  -2.31898036e-02\n",
      "   -5.12203956e-02]\n",
      " [ -2.28263429e-03   1.05995626e-02   2.72099490e-04  -2.39626514e-03\n",
      "    1.74780903e-03]]\n"
     ]
    },
    {
     "ename": "ValueError",
     "evalue": "operands could not be broadcast together with shapes (4,5) (5,5) ",
     "output_type": "error",
     "traceback": [
      "\u001b[1;31m---------------------------------------------------------------------------\u001b[0m",
      "\u001b[1;31mValueError\u001b[0m                                Traceback (most recent call last)",
      "\u001b[1;32m<ipython-input-43-d151496acfa9>\u001b[0m in \u001b[0;36m<module>\u001b[1;34m()\u001b[0m\n\u001b[1;32m----> 1\u001b[1;33m \u001b[1;32mprint\u001b[0m \u001b[0mn\u001b[0m\u001b[1;33m.\u001b[0m\u001b[0mbackpropagation\u001b[0m\u001b[1;33m(\u001b[0m\u001b[0mnp\u001b[0m\u001b[1;33m.\u001b[0m\u001b[0marray\u001b[0m\u001b[1;33m(\u001b[0m\u001b[1;33m[\u001b[0m\u001b[1;36m5\u001b[0m\u001b[1;33m]\u001b[0m\u001b[1;33m)\u001b[0m\u001b[1;33m)\u001b[0m\u001b[1;33m\u001b[0m\u001b[0m\n\u001b[0m",
      "\u001b[1;32m<ipython-input-41-a68b1a2c2755>\u001b[0m in \u001b[0;36mbackpropagation\u001b[1;34m(self, Y)\u001b[0m\n\u001b[0;32m     37\u001b[0m         \u001b[0mself\u001b[0m\u001b[1;33m.\u001b[0m\u001b[0moneerror\u001b[0m \u001b[1;33m=\u001b[0m \u001b[0mnp\u001b[0m\u001b[1;33m.\u001b[0m\u001b[0mmultiply\u001b[0m\u001b[1;33m(\u001b[0m\u001b[0mnp\u001b[0m\u001b[1;33m.\u001b[0m\u001b[0mtranspose\u001b[0m\u001b[1;33m(\u001b[0m\u001b[0mself\u001b[0m\u001b[1;33m.\u001b[0m\u001b[0mW2\u001b[0m\u001b[1;33m)\u001b[0m\u001b[1;33m*\u001b[0m\u001b[0mself\u001b[0m\u001b[1;33m.\u001b[0m\u001b[0mtwoerror\u001b[0m\u001b[1;33m,\u001b[0m\u001b[0mnp\u001b[0m\u001b[1;33m.\u001b[0m\u001b[0mmultiply\u001b[0m\u001b[1;33m(\u001b[0m\u001b[0mself\u001b[0m\u001b[1;33m.\u001b[0m\u001b[0ma3\u001b[0m\u001b[1;33m,\u001b[0m\u001b[1;36m1.0\u001b[0m\u001b[1;33m-\u001b[0m\u001b[0mself\u001b[0m\u001b[1;33m.\u001b[0m\u001b[0ma3\u001b[0m\u001b[1;33m)\u001b[0m\u001b[1;33m)\u001b[0m\u001b[1;33m\u001b[0m\u001b[0m\n\u001b[0;32m     38\u001b[0m         \u001b[1;32mprint\u001b[0m \u001b[0mnp\u001b[0m\u001b[1;33m.\u001b[0m\u001b[0mshape\u001b[0m\u001b[1;33m(\u001b[0m\u001b[0mself\u001b[0m\u001b[1;33m.\u001b[0m\u001b[0mW1\u001b[0m\u001b[1;33m)\u001b[0m\u001b[1;33m,\u001b[0m\u001b[0mself\u001b[0m\u001b[1;33m.\u001b[0m\u001b[0moneerror\u001b[0m\u001b[1;33m\u001b[0m\u001b[0m\n\u001b[1;32m---> 39\u001b[1;33m         \u001b[0mself\u001b[0m\u001b[1;33m.\u001b[0m\u001b[0mzeroerror\u001b[0m \u001b[1;33m=\u001b[0m \u001b[0mnp\u001b[0m\u001b[1;33m.\u001b[0m\u001b[0mmultiply\u001b[0m\u001b[1;33m(\u001b[0m\u001b[0mnp\u001b[0m\u001b[1;33m.\u001b[0m\u001b[0mtranspose\u001b[0m\u001b[1;33m(\u001b[0m\u001b[0mself\u001b[0m\u001b[1;33m.\u001b[0m\u001b[0mW1\u001b[0m\u001b[1;33m)\u001b[0m\u001b[1;33m*\u001b[0m\u001b[0mself\u001b[0m\u001b[1;33m.\u001b[0m\u001b[0moneerror\u001b[0m\u001b[1;33m,\u001b[0m\u001b[0mnp\u001b[0m\u001b[1;33m.\u001b[0m\u001b[0mmultiply\u001b[0m\u001b[1;33m(\u001b[0m\u001b[0mself\u001b[0m\u001b[1;33m.\u001b[0m\u001b[0ma2\u001b[0m\u001b[1;33m,\u001b[0m\u001b[1;36m1.0\u001b[0m\u001b[1;33m-\u001b[0m\u001b[0mself\u001b[0m\u001b[1;33m.\u001b[0m\u001b[0ma2\u001b[0m\u001b[1;33m)\u001b[0m\u001b[1;33m)\u001b[0m\u001b[1;33m\u001b[0m\u001b[0m\n\u001b[0m\u001b[0;32m     40\u001b[0m         \u001b[1;31m#print self.lasterror,self.twoerror,self.oneerror,self.zeroerror\u001b[0m\u001b[1;33m\u001b[0m\u001b[1;33m\u001b[0m\u001b[0m\n\u001b[0;32m     41\u001b[0m         \u001b[1;32mreturn\u001b[0m \u001b[0mself\u001b[0m\u001b[1;33m.\u001b[0m\u001b[0mgradient_descent\u001b[0m\u001b[1;33m(\u001b[0m\u001b[1;33m)\u001b[0m\u001b[1;33m\u001b[0m\u001b[0m\n",
      "\u001b[1;31mValueError\u001b[0m: operands could not be broadcast together with shapes (4,5) (5,5) "
     ]
    }
   ],
   "source": [
    "print n.backpropagation(np.array([5]))"
   ]
  },
  {
   "cell_type": "code",
   "execution_count": 35,
   "metadata": {
    "collapsed": false
   },
   "outputs": [],
   "source": [
    "class Data(object) :\n",
    "    def __init__(self) :\n",
    "        self.g = nx.barabasi_albert_graph(random.randint(100,1000),random.randint(2,7))\n",
    "        self.degree_centrality = nx.degree_centrality(self.g)\n",
    "        self.deg = nx.degree_centrality(self.g)\n",
    "        self.sorted_deg = sorted(self.deg.items(), key=operator.itemgetter(1))\n",
    "        self.nodes = len(self.g.nodes())\n",
    "        self.edges = len(self.g.edges())\n",
    "        self.degree_rank()\n",
    "        self.degree_dict = self.g.degree()\n",
    "        self.avg_deg = sum(self.g.degree().values())/float(len(self.g.nodes()))\n",
    "        #print self.rank\n",
    "        #print self.degree_dict\n",
    "        self.form_dataset()\n",
    "    def degree_rank(self) :\n",
    "        self.sorted_deg = sorted(self.deg.items(), key=operator.itemgetter(1))\n",
    "        count = 1\n",
    "        self.rank = dict()\n",
    "        self.rank[self.sorted_deg[0][0]] = len(self.sorted_deg)\n",
    "        for i in xrange(1,len(self.sorted_deg)) :\n",
    "            if self.sorted_deg[i-1][1] == self.sorted_deg[i][1] :\n",
    "                self.rank[self.sorted_deg[i][0]] = self.rank[self.sorted_deg[i-1][0]]\n",
    "                count += 1\n",
    "            else :\n",
    "                self.rank[self.sorted_deg[i][0]] = self.rank[self.sorted_deg[i-1][0]] - count\n",
    "                count = 1\n",
    "    def form_dataset(self) :\n",
    "        #print len(self.rank),len(self.degree_dict)\n",
    "        self.X = np.zeros((self.nodes,4),dtype='float')\n",
    "        self.Y = np.zeros(self.nodes)\n",
    "        for i in xrange(self.nodes) :\n",
    "            self.X[i][0] = self.nodes\n",
    "            self.X[i][1] = self.edges\n",
    "            self.X[i][2] = self.avg_deg\n",
    "            self.X[i][3] = self.degree_dict[i]\n",
    "            self.Y[i] = self.rank[i]\n",
    "    def get_X(self) :\n",
    "        return self.X\n",
    "    def get_Y(self) :\n",
    "        return self.Y"
   ]
  },
  {
   "cell_type": "code",
   "execution_count": 36,
   "metadata": {
    "collapsed": false
   },
   "outputs": [],
   "source": [
    "class Dataset(object) :\n",
    "    def __init__(self,train):\n",
    "        self.items = train\n",
    "        self.training_data = list()\n",
    "        for i in xrange(train):\n",
    "            data = Data()\n",
    "            self.training_data.append(data)\n",
    "    def get_data(self):\n",
    "        return self.training_data"
   ]
  },
  {
   "cell_type": "code",
   "execution_count": 37,
   "metadata": {
    "collapsed": false
   },
   "outputs": [],
   "source": [
    "d = Dataset(10)"
   ]
  },
  {
   "cell_type": "code",
   "execution_count": 38,
   "metadata": {
    "collapsed": false
   },
   "outputs": [
    {
     "name": "stdout",
     "output_type": "stream",
     "text": [
      "[[  235.          1150.             9.78723404    17.        ]]\n"
     ]
    }
   ],
   "source": [
    "print d.get_data()[9].get_X()[[38],:]"
   ]
  },
  {
   "cell_type": "code",
   "execution_count": 39,
   "metadata": {
    "collapsed": false
   },
   "outputs": [],
   "source": [
    "class Neural(object) :\n",
    "    def __init__(self,train) :\n",
    "        self.inputLayer = 4\n",
    "        self.hiddenLayerOne = 5\n",
    "        self.hiddenLayerTwo = 5\n",
    "        self.outputLayer = 1\n",
    "        self.eta = 0.15    #LEARNING RATE\n",
    "        self.W1 = np.random.randn(self.hiddenLayerOne,self.inputLayer)\n",
    "        self.W2 = np.random.randn(self.hiddenLayerTwo,self.hiddenLayerOne)\n",
    "        self.W3 = np.random.randn(self.outputLayer,self.hiddenLayerTwo)\n",
    "        self.training = train\n",
    "        self.data = Dataset(self.training)\n",
    "        for i in xrange(self.training) :\n",
    "            self.Xmatrix = self.data.get_data()[i].get_X()\n",
    "            self.Ymatrix = self.data.get_data()[i].get_Y()\n",
    "            for j in xrange(len(self.Ymatrix)):\n",
    "                self.forward_propagation(self.X[[j],:])\n",
    "                self.backpropagation(self.Ymatrix[j])\n",
    "    def sigmoid(self,z) :\n",
    "        return 1.0/(1.0+ np.exp(-z))\n",
    "    def dsigmoid(self,z) :\n",
    "        return np.dot((self.sigmoid(z)), (1 - self.sigmoid(z)))\n",
    "    def cost_function(sekf,y,yHat) :\n",
    "        return np.dot((y - np.transpose(yHat)),np.transpose(y - np.transpose(yHat)))\n",
    "    def forward_propagation(self,X) :\n",
    "        self.z2 = np.dot(self.W1,X)\n",
    "        #print \"Z2 : \",self.z2\n",
    "        self.a2 = self.sigmoid(self.z2)\n",
    "        #print \"A2 : \",self.a2\n",
    "        self.z3 = np.dot(self.W2,self.a2)\n",
    "        #print \"Z3 : \",self.z3\n",
    "        self.a3 = self.sigmoid(self.z3)\n",
    "        #print \"A3 : \",self.a3\n",
    "        self.z4 = np.dot(self.W3,self.a3)\n",
    "        #print \"Z4 : \",self.z4\n",
    "        self.a4 = self.sigmoid(self.z4)\n",
    "        #print \"A4 : \",self.a4\n",
    "        self.yHat = np.sum(self.a4)\n",
    "        #print \"yHat : \",self.yHat\n",
    "    def backpropagation(self,Y) :\n",
    "        self.lasterror = np.dot(np.dot(self.yHat,1.0-self.yHat),self.yHat - Y)\n",
    "        self.twoerror = np.multiply(np.transpose(self.W3)*self.lasterror,np.multiply(self.a4,1.0-self.a4))\n",
    "        #print np.shape(x.twoerror)\n",
    "        self.oneerror = np.multiply(np.transpose(self.W2)*self.lasterror,np.multiply(self.a3,1.0-self.a3))\n",
    "        self.zeroerror = np.multiply(np.transpose(self.W1)*self.lasterror,np.multiply(self.a2,1.0-self.a2))\n",
    "        #print self.lasterror,self.twoerror,self.oneerror,self.zeroerror\n",
    "        return self.gradient_descent()\n",
    "    def gradient_descent(self) :\n",
    "        self.W1 = self.W1 + np.transpose((self.zeroerror))\n",
    "        self.W2 = self.W2 + np.transpose(self.eta*self.oneerror)\n",
    "        self.W3 = self.W3 + np.transpose(self.eta*self.twoerror)"
   ]
  },
  {
   "cell_type": "code",
   "execution_count": null,
   "metadata": {
    "collapsed": true
   },
   "outputs": [],
   "source": [
    "deg = nx.degree_centrality(g)\n",
    "g = nx.barabasi_albert_graph(random.randint(1000,10000),random.randint(2,7))\n",
    "\n",
    "count = 1\n",
    "rank = dict()\n",
    "rank[sorted_deg[0][0]] = len(sorted_deg)\n",
    "for i in xrange(1,len(sorted_deg)) :\n",
    "    if sorted_deg[i-1][1] == sorted_deg[i][1] :\n",
    "        rank[sorted_deg[i][0]] = rank[sorted_deg[i-1][0]]\n",
    "        count += 1\n",
    "    else :\n",
    "        rank[sorted_deg[i][0]] = rank[sorted_deg[i-1][0]] - count\n",
    "        count = 1\n",
    "        \n",
    "max_deg = g.degree()[sorted_deg[len(sorted_deg)-1][0]]\n",
    "print max_deg\n",
    "avg_deg = sum(g.degree().values())/float(len(g.nodes()))\n",
    "print avg_deg\n",
    "\n",
    "sorted_deg = sorted(deg.items(), key=operator.itemgetter(1))"
   ]
  }
 ],
 "metadata": {
  "kernelspec": {
   "display_name": "Python 2",
   "language": "python",
   "name": "python2"
  },
  "language_info": {
   "codemirror_mode": {
    "name": "ipython",
    "version": 2
   },
   "file_extension": ".py",
   "mimetype": "text/x-python",
   "name": "python",
   "nbconvert_exporter": "python",
   "pygments_lexer": "ipython2",
   "version": "2.7.11"
  }
 },
 "nbformat": 4,
 "nbformat_minor": 0
}
