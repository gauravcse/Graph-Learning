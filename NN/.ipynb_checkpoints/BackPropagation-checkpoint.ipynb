{
 "cells": [
  {
   "cell_type": "code",
   "execution_count": 2,
   "metadata": {
    "collapsed": true
   },
   "outputs": [],
   "source": [
    "import numpy as np\n",
    "import matplotlib.pyplot as plt\n",
    "import networkx as nx"
   ]
  },
  {
   "cell_type": "code",
   "execution_count": 17,
   "metadata": {
    "collapsed": false
   },
   "outputs": [],
   "source": [
    "class Neural(object) :\n",
    "    def __init__(self) :\n",
    "        self.inputLayer = 3\n",
    "        self.hiddenLayerOne = 4\n",
    "        self.hiddenLayerTwo = 4\n",
    "        self.outputLayer = 1\n",
    "        self.eta = 0.2    #LEARNING RATE\n",
    "        self.W1 = np.random.randn(self.hiddenLayerOne,self.inputLayer)\n",
    "        self.W2 = np.random.randn(self.hiddenLayerTwo,self.hiddenLayerOne)\n",
    "        self.W3 = np.random.randn(self.outputLayer,self.hiddenLayerTwo)\n",
    "    def sigmoid(self,z) :\n",
    "        return 1.0/(1.0+ np.exp(-z))\n",
    "    def dsigmoid(self,z) :\n",
    "        return np.dot((self.sigmoid(z)), (1 - self.sigmoid(z)))\n",
    "    def cost_function(sekf,y,yHat) :\n",
    "        return np.dot((y - np.transpose(yHat)),np.transpose(y - np.transpose(yHat)))\n",
    "    def forward_propagation(self,X) :\n",
    "        self.z2 = np.dot(self.W1,X)\n",
    "        print \"Z2 : \",self.z2\n",
    "        self.a2 = self.sigmoid(self.z2)\n",
    "        print \"A2 : \",self.a2\n",
    "        self.z3 = np.dot(self.W2,self.a2)\n",
    "        print \"Z3 : \",self.z3\n",
    "        self.a3 = self.sigmoid(self.z3)\n",
    "        print \"A3 : \",self.a3\n",
    "        self.z4 = np.dot(self.W3,self.a3)\n",
    "        print \"Z4 : \",self.z4\n",
    "        self.a4 = self.sigmoid(self.z4)\n",
    "        print \"A4 : \",self.a4\n",
    "        self.yHat = np.sum(self.a4)\n",
    "        print \"yHat : \",self.yHat\n",
    "    def backpropagation(self,Y) :\n",
    "        self.lasterror = np.dot(np.dot(self.yHat,1.0-self.yHat),self.yHat - Y)\n",
    "        self.twoerror = np.multiply(np.transpose(self.W3)*self.lasterror,np.multiply(self.a4,1.0-self.a4))\n",
    "        #print np.shape(x.twoerror)\n",
    "        self.oneerror = np.multiply(np.transpose(self.W2)*self.lasterror,np.multiply(self.a3,1.0-self.a3))\n",
    "        self.zeroerror = np.multiply(np.transpose(self.W1)*self.lasterror,np.multiply(self.a2,1.0-self.a2))\n",
    "        #print self.lasterror,self.twoerror,self.oneerror,self.zeroerror\n",
    "        return self.gradient_descent()\n",
    "    def gradient_descent(self) :\n",
    "        self.W1 = self.W1 + np.transpose((self.zeroerror))\n",
    "        self.W2 = self.W2 + np.transpose(self.eta*self.oneerror)\n",
    "        self.W3 = self.W3 + np.transpose(self.eta*self.twoerror)"
   ]
  },
  {
   "cell_type": "code",
   "execution_count": 18,
   "metadata": {
    "collapsed": false
   },
   "outputs": [
    {
     "name": "stdout",
     "output_type": "stream",
     "text": [
      "Z2 :  [ 1.36598274  2.19708543 -5.55764853  2.96978771]\n",
      "A2 :  [ 0.79673033  0.89998748  0.00384301  0.95119042]\n",
      "Z3 :  [-1.7592133   0.25545488  3.99977234 -1.73090991]\n",
      "A3 :  [ 0.1468889   0.56351867  0.98200977  0.15047123]\n",
      "Z4 :  [ 2.13926376]\n",
      "A4 :  [ 0.89466125]\n",
      "yHat :  0.894661245223\n"
     ]
    }
   ],
   "source": [
    "n = Neural()\n",
    "n.forward_propagation(np.array([2.0,3.0,4.0]))"
   ]
  },
  {
   "cell_type": "code",
   "execution_count": 19,
   "metadata": {
    "collapsed": false
   },
   "outputs": [],
   "source": [
    "n.backpropagation(np.array([5]))"
   ]
  },
  {
   "cell_type": "code",
   "execution_count": null,
   "metadata": {
    "collapsed": true
   },
   "outputs": [],
   "source": []
  },
  {
   "cell_type": "code",
   "execution_count": null,
   "metadata": {
    "collapsed": true
   },
   "outputs": [],
   "source": []
  }
 ],
 "metadata": {
  "kernelspec": {
   "display_name": "Python 2",
   "language": "python",
   "name": "python2"
  },
  "language_info": {
   "codemirror_mode": {
    "name": "ipython",
    "version": 2
   },
   "file_extension": ".py",
   "mimetype": "text/x-python",
   "name": "python",
   "nbconvert_exporter": "python",
   "pygments_lexer": "ipython2",
   "version": "2.7.11"
  }
 },
 "nbformat": 4,
 "nbformat_minor": 0
}
