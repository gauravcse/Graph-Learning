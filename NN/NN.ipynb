{
 "cells": [
  {
   "cell_type": "code",
   "execution_count": 3,
   "metadata": {
    "collapsed": true
   },
   "outputs": [],
   "source": [
    "import numpy as np\n",
    "import matplotlib.pyplot as plt\n",
    "import networkx as nx"
   ]
  },
  {
   "cell_type": "code",
   "execution_count": 4,
   "metadata": {
    "collapsed": false
   },
   "outputs": [],
   "source": [
    "class Neural(object) :\n",
    "    def __init__(self) :\n",
    "        self.inputLayerSize = 3\n",
    "        self.hiddenLayerOne = 4\n",
    "        self.hiddenLayerTwo = 4\n",
    "        self.outputLayer = 1\n",
    "        self.W1 = np.random.randn(self.inputLayerSize,self.hiddenLayerOne)\n",
    "        self.W2 = np.random.randn(self.hiddenLayerOne,self.hiddenLayerTwo)\n",
    "        self.W3 = np.random.randn(self.hiddenLayerTwo,self.outputLayer)\n",
    "    def sigmoid(self,z) :\n",
    "        return 1.0/(1.0+ np.exp(-z))\n",
    "    def dsigmoid(self,z) :\n",
    "        return np.dot((self.sigmoid(z)), (1 - self.sigmoid(z)))\n",
    "    def cost_function(sekf,y,yHat) :\n",
    "        return np.dot((y - np.transpose(yHat)),np.transpose(y - np.transpose(yHat)))\n",
    "    def forward_propagation(self,X) :\n",
    "        self.z2 = np.dot(X,self.W1)\n",
    "        print \"Z2 : \",self.z2\n",
    "        self.a2 = self.sigmoid(self.z2)\n",
    "        print \"A2 : \",self.a2\n",
    "        self.z3 = np.dot(self.W1,self.W2)\n",
    "        print \"Z3 : \",self.z3\n",
    "        self.a3 = self.sigmoid(self.z3)\n",
    "        print \"A3 : \",self.a3\n",
    "        self.z4 = np.dot(self.W2,self.W3)\n",
    "        print \"Z4 : \",self.z4\n",
    "        self.a4 = self.sigmoid(self.z4)\n",
    "        print \"A4 : \",self.a4\n",
    "        self.yHat = np.sum(self.a4)\n",
    "        print \"yHat : \",self.yHat\n",
    "    def backpropagation(self,Y) :\n",
    "        #self.lasterror = np.dot(np.dot(self.yHat,1.0-self.yHat),Y-self.yHat)\n",
    "        \n",
    "        self.twoerror = np.multiply(np.multiply(self.a4,1.0-self.a4),self.W3*self.lasterror)\n",
    "        print np.shape(x.twoerror)\n",
    "        self.oneerror = np.multiply(np.multiply(self.a3,1.0-self.a3),self.W2*self.twoerror)\n",
    "        self.zeroerror = np.multiply(np.multiply(self.a2,1.0-self.a2),self.W2*self.twoerror)\n",
    "        print self.lasterror,self.twoerror,self.oneerror,self.zeroerror"
   ]
  },
  {
   "cell_type": "code",
   "execution_count": 5,
   "metadata": {
    "collapsed": false
   },
   "outputs": [
    {
     "name": "stdout",
     "output_type": "stream",
     "text": [
      "[[ 0.43089835 -0.62298482  0.0652712 ]]\n"
     ]
    }
   ],
   "source": [
    "W1 = np.random.randn(3,3)\n",
    "X = np.random.randn(1,3)\n",
    "print np.dot(X,W1)"
   ]
  },
  {
   "cell_type": "code",
   "execution_count": 6,
   "metadata": {
    "collapsed": false
   },
   "outputs": [
    {
     "name": "stdout",
     "output_type": "stream",
     "text": [
      "Z2 :  [ 4.11368574 -3.6746094  -9.44161909 -5.32116473]\n",
      "A2 :  [  9.83915528e-01   2.47321196e-02   7.93455306e-05   4.86329114e-03]\n",
      "Z3 :  [[-1.50187379 -0.0180973   0.63078046  0.87146748]\n",
      " [ 0.1808872   0.44192362 -0.61981356 -1.06585249]\n",
      " [-2.40977524  0.55793624 -0.02121826 -0.05844145]]\n",
      "A3 :  [[ 0.18214622  0.4954758   0.65266641  0.70505096]\n",
      " [ 0.5450989   0.6087173   0.34982386  0.25619263]\n",
      " [ 0.08243032  0.63597489  0.49469563  0.48539379]]\n",
      "Z4 :  [[ 0.30901402]\n",
      " [ 2.51934817]\n",
      " [-0.31378197]\n",
      " [ 0.89804015]]\n",
      "A4 :  [[ 0.57664458]\n",
      " [ 0.92548712]\n",
      " [ 0.42219187]\n",
      " [ 0.71054659]]\n",
      "yHat :  2.63487015072\n",
      "(3L, 4L)\n"
     ]
    }
   ],
   "source": [
    "x = Neural()\n",
    "x.forward_propagation(np.array([2,3,4]))\n",
    "print np.shape(1.0 - x.a3)"
   ]
  },
  {
   "cell_type": "code",
   "execution_count": 53,
   "metadata": {
    "collapsed": false
   },
   "outputs": [
    {
     "name": "stdout",
     "output_type": "stream",
     "text": [
      "(4L, 1L)\n"
     ]
    },
    {
     "ename": "ValueError",
     "evalue": "operands could not be broadcast together with shapes (3,4) (4,4) ",
     "output_type": "error",
     "traceback": [
      "\u001b[1;31m---------------------------------------------------------------------------\u001b[0m",
      "\u001b[1;31mValueError\u001b[0m                                Traceback (most recent call last)",
      "\u001b[1;32m<ipython-input-53-2e479e5f6ba5>\u001b[0m in \u001b[0;36m<module>\u001b[1;34m()\u001b[0m\n\u001b[1;32m----> 1\u001b[1;33m \u001b[0mx\u001b[0m\u001b[1;33m.\u001b[0m\u001b[0mbackpropagation\u001b[0m\u001b[1;33m(\u001b[0m\u001b[1;36m1.8\u001b[0m\u001b[1;33m)\u001b[0m\u001b[1;33m\u001b[0m\u001b[0m\n\u001b[0m\u001b[0;32m      2\u001b[0m \u001b[1;32mprint\u001b[0m \u001b[0mnp\u001b[0m\u001b[1;33m.\u001b[0m\u001b[0mshape\u001b[0m\u001b[1;33m(\u001b[0m\u001b[0mx\u001b[0m\u001b[1;33m.\u001b[0m\u001b[0mtwoerror\u001b[0m\u001b[1;33m)\u001b[0m\u001b[1;33m\u001b[0m\u001b[0m\n",
      "\u001b[1;32m<ipython-input-50-c41e8915e74b>\u001b[0m in \u001b[0;36mbackpropagation\u001b[1;34m(self, Y)\u001b[0m\n\u001b[0;32m     26\u001b[0m         \u001b[0mself\u001b[0m\u001b[1;33m.\u001b[0m\u001b[0mtwoerror\u001b[0m \u001b[1;33m=\u001b[0m \u001b[0mnp\u001b[0m\u001b[1;33m.\u001b[0m\u001b[0mmultiply\u001b[0m\u001b[1;33m(\u001b[0m\u001b[0mnp\u001b[0m\u001b[1;33m.\u001b[0m\u001b[0mmultiply\u001b[0m\u001b[1;33m(\u001b[0m\u001b[0mself\u001b[0m\u001b[1;33m.\u001b[0m\u001b[0ma4\u001b[0m\u001b[1;33m,\u001b[0m\u001b[1;36m1.0\u001b[0m\u001b[1;33m-\u001b[0m\u001b[0mself\u001b[0m\u001b[1;33m.\u001b[0m\u001b[0ma4\u001b[0m\u001b[1;33m)\u001b[0m\u001b[1;33m,\u001b[0m\u001b[0mself\u001b[0m\u001b[1;33m.\u001b[0m\u001b[0mW3\u001b[0m\u001b[1;33m*\u001b[0m\u001b[0mself\u001b[0m\u001b[1;33m.\u001b[0m\u001b[0mlasterror\u001b[0m\u001b[1;33m)\u001b[0m\u001b[1;33m\u001b[0m\u001b[0m\n\u001b[0;32m     27\u001b[0m         \u001b[1;32mprint\u001b[0m \u001b[0mnp\u001b[0m\u001b[1;33m.\u001b[0m\u001b[0mshape\u001b[0m\u001b[1;33m(\u001b[0m\u001b[0mx\u001b[0m\u001b[1;33m.\u001b[0m\u001b[0mtwoerror\u001b[0m\u001b[1;33m)\u001b[0m\u001b[1;33m\u001b[0m\u001b[0m\n\u001b[1;32m---> 28\u001b[1;33m         \u001b[0mself\u001b[0m\u001b[1;33m.\u001b[0m\u001b[0moneerror\u001b[0m \u001b[1;33m=\u001b[0m \u001b[0mnp\u001b[0m\u001b[1;33m.\u001b[0m\u001b[0mmultiply\u001b[0m\u001b[1;33m(\u001b[0m\u001b[0mnp\u001b[0m\u001b[1;33m.\u001b[0m\u001b[0mmultiply\u001b[0m\u001b[1;33m(\u001b[0m\u001b[0mself\u001b[0m\u001b[1;33m.\u001b[0m\u001b[0ma3\u001b[0m\u001b[1;33m,\u001b[0m\u001b[1;36m1.0\u001b[0m\u001b[1;33m-\u001b[0m\u001b[0mself\u001b[0m\u001b[1;33m.\u001b[0m\u001b[0ma3\u001b[0m\u001b[1;33m)\u001b[0m\u001b[1;33m,\u001b[0m\u001b[0mself\u001b[0m\u001b[1;33m.\u001b[0m\u001b[0mW2\u001b[0m\u001b[1;33m*\u001b[0m\u001b[0mself\u001b[0m\u001b[1;33m.\u001b[0m\u001b[0mtwoerror\u001b[0m\u001b[1;33m)\u001b[0m\u001b[1;33m\u001b[0m\u001b[0m\n\u001b[0m\u001b[0;32m     29\u001b[0m         \u001b[0mself\u001b[0m\u001b[1;33m.\u001b[0m\u001b[0mzeroerror\u001b[0m \u001b[1;33m=\u001b[0m \u001b[0mnp\u001b[0m\u001b[1;33m.\u001b[0m\u001b[0mmultiply\u001b[0m\u001b[1;33m(\u001b[0m\u001b[0mnp\u001b[0m\u001b[1;33m.\u001b[0m\u001b[0mmultiply\u001b[0m\u001b[1;33m(\u001b[0m\u001b[0mself\u001b[0m\u001b[1;33m.\u001b[0m\u001b[0ma2\u001b[0m\u001b[1;33m,\u001b[0m\u001b[1;36m1.0\u001b[0m\u001b[1;33m-\u001b[0m\u001b[0mself\u001b[0m\u001b[1;33m.\u001b[0m\u001b[0ma2\u001b[0m\u001b[1;33m)\u001b[0m\u001b[1;33m,\u001b[0m\u001b[0mself\u001b[0m\u001b[1;33m.\u001b[0m\u001b[0mW2\u001b[0m\u001b[1;33m*\u001b[0m\u001b[0mself\u001b[0m\u001b[1;33m.\u001b[0m\u001b[0mtwoerror\u001b[0m\u001b[1;33m)\u001b[0m\u001b[1;33m\u001b[0m\u001b[0m\n\u001b[0;32m     30\u001b[0m         \u001b[1;32mprint\u001b[0m \u001b[0mself\u001b[0m\u001b[1;33m.\u001b[0m\u001b[0mlasterror\u001b[0m\u001b[1;33m,\u001b[0m\u001b[0mself\u001b[0m\u001b[1;33m.\u001b[0m\u001b[0mtwoerror\u001b[0m\u001b[1;33m,\u001b[0m\u001b[0mself\u001b[0m\u001b[1;33m.\u001b[0m\u001b[0moneerror\u001b[0m\u001b[1;33m,\u001b[0m\u001b[0mself\u001b[0m\u001b[1;33m.\u001b[0m\u001b[0mzeroerror\u001b[0m\u001b[1;33m\u001b[0m\u001b[0m\n",
      "\u001b[1;31mValueError\u001b[0m: operands could not be broadcast together with shapes (3,4) (4,4) "
     ]
    }
   ],
   "source": [
    "x.backpropagation(1.8)\n",
    "print np.shape(x.twoerror)"
   ]
  },
  {
   "cell_type": "code",
   "execution_count": null,
   "metadata": {
    "collapsed": true
   },
   "outputs": [],
   "source": []
  }
 ],
 "metadata": {
  "kernelspec": {
   "display_name": "Python 2",
   "language": "python",
   "name": "python2"
  },
  "language_info": {
   "codemirror_mode": {
    "name": "ipython",
    "version": 2
   },
   "file_extension": ".py",
   "mimetype": "text/x-python",
   "name": "python",
   "nbconvert_exporter": "python",
   "pygments_lexer": "ipython2",
   "version": "2.7.11"
  }
 },
 "nbformat": 4,
 "nbformat_minor": 0
}
