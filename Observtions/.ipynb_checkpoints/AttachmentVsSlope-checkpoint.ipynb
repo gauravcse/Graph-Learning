{
 "cells": [
  {
   "cell_type": "code",
   "execution_count": 2,
   "metadata": {
    "collapsed": true
   },
   "outputs": [],
   "source": [
    "import networkx as nx\n",
    "import random\n",
    "import matplotlib.pyplot as plt\n",
    "import numpy as np\n",
    "from sklearn import linear_model\n",
    "import pandas as pd\n",
    "%matplotlib inline"
   ]
  },
  {
   "cell_type": "code",
   "execution_count": 3,
   "metadata": {
    "collapsed": true
   },
   "outputs": [],
   "source": [
    "data = pd.read_csv(\"pref_slope.csv\")\n",
    "data = data.as_matrix()"
   ]
  },
  {
   "cell_type": "code",
   "execution_count": 4,
   "metadata": {
    "collapsed": false
   },
   "outputs": [
    {
     "name": "stdout",
     "output_type": "stream",
     "text": [
      "[[ 16.           0.03125   ]\n",
      " [  7.           0.07142857]\n",
      " [  9.           0.05555556]\n",
      " [ 14.           0.03571429]\n",
      " [ 12.           0.04166667]\n",
      " [  7.           0.07142857]\n",
      " [  6.           0.08333333]\n",
      " [  3.           0.16666667]\n",
      " [ 11.           0.04545455]\n",
      " [  4.           0.125     ]\n",
      " [  8.           0.0625    ]\n",
      " [  9.           0.05555556]\n",
      " [ 11.           0.04545455]\n",
      " [ 11.           0.04545455]\n",
      " [  4.           0.125     ]\n",
      " [  7.           0.07142857]\n",
      " [ 15.           0.03333333]\n",
      " [ 13.           0.03846154]\n",
      " [  4.           0.125     ]\n",
      " [  9.           0.05555556]\n",
      " [ 12.           0.04166667]\n",
      " [ 10.           0.05      ]\n",
      " [  4.           0.125     ]\n",
      " [  9.           0.05555556]\n",
      " [ 12.           0.04166667]\n",
      " [ 12.           0.04166667]\n",
      " [  6.           0.08333333]\n",
      " [ 11.           0.04545455]\n",
      " [  8.           0.0625    ]\n",
      " [ 11.           0.04545455]\n",
      " [  9.           0.05555556]\n",
      " [  9.           0.05555556]\n",
      " [ 14.           0.03571429]\n",
      " [  4.           0.125     ]\n",
      " [  8.           0.0625    ]\n",
      " [ 15.           0.03333333]\n",
      " [ 16.           0.03125   ]\n",
      " [  4.           0.125     ]\n",
      " [ 16.           0.03125   ]\n",
      " [  4.           0.125     ]\n",
      " [ 10.           0.05      ]\n",
      " [ 12.           0.04166667]\n",
      " [ 11.           0.04545455]\n",
      " [  7.           0.07142857]\n",
      " [  6.           0.08333333]\n",
      " [ 15.           0.03333333]\n",
      " [ 15.           0.03333333]\n",
      " [ 14.           0.03571429]\n",
      " [  8.           0.0625    ]]\n"
     ]
    }
   ],
   "source": [
    "x,y = "
   ]
  },
  {
   "cell_type": "code",
   "execution_count": null,
   "metadata": {
    "collapsed": true
   },
   "outputs": [],
   "source": []
  }
 ],
 "metadata": {
  "kernelspec": {
   "display_name": "Python 2",
   "language": "python",
   "name": "python2"
  },
  "language_info": {
   "codemirror_mode": {
    "name": "ipython",
    "version": 2
   },
   "file_extension": ".py",
   "mimetype": "text/x-python",
   "name": "python",
   "nbconvert_exporter": "python",
   "pygments_lexer": "ipython2",
   "version": "2.7.11"
  }
 },
 "nbformat": 4,
 "nbformat_minor": 0
}
