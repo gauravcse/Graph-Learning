{
 "cells": [
  {
   "cell_type": "code",
   "execution_count": 7,
   "metadata": {
    "collapsed": false
   },
   "outputs": [],
   "source": [
    "import networkx as nx\n",
    "import matplotlib.pyplot as plt\n",
    "import numpy as np\n",
    "import random"
   ]
  },
  {
   "cell_type": "code",
   "execution_count": 36,
   "metadata": {
    "collapsed": true
   },
   "outputs": [],
   "source": [
    "def make_Graph(density,n) :\n",
    "    G = nx.Graph()\n",
    "    #te = n*(n+1)/2\n",
    "    #e = int(density * float(te))\n",
    "    k = n/2 - ((n*n - 2*(n*(n-1))*density)**0.5)/2\n",
    "    print n,int(k)\n",
    "    G = nx.barabasi_albert_graph(n,int(k))\n",
    "    return G"
   ]
  },
  {
   "cell_type": "code",
   "execution_count": 37,
   "metadata": {
    "collapsed": true
   },
   "outputs": [],
   "source": [
    "def count(G,idx) :\n",
    "    degree_count = dict()    # DICTIONARY THAT KEEPS COUNT OF HOW MANY VERTICES ARE THERE OF EACH DEGREE\n",
    "    for i in xrange(len(G.nodes())) :\n",
    "        degree_count[G.degree(i)] = degree_count.get(G.degree(i), 0) + 1\n",
    "    rank = dict() \t\t\t\t#STORES THE RANK CORRESPONDING TO EVERY DEGREE\n",
    "    sum = 1\n",
    "    for k in sorted(degree_count.keys(),reverse = True) :\n",
    "        rank[k] = sum\n",
    "        sum += degree_count[k]\n",
    "    #print rank\n",
    "    path = plot1(G,rank,idx)\n",
    "    return path"
   ]
  },
  {
   "cell_type": "code",
   "execution_count": 49,
   "metadata": {
    "collapsed": true
   },
   "outputs": [],
   "source": [
    "colors = ['red', 'black', 'blue', 'brown', 'green']\n",
    "def plot1(G,rank,num) :\n",
    "    x = np.zeros(len(G.nodes()) + 5) \n",
    "    y = np.zeros(len(G.nodes()) + 5)\n",
    "    for key in rank.keys() :\n",
    "        y[key] = rank[key]\n",
    "        x[key] = key\n",
    "    #path = \"C:\\Users\\Gaurav Mitra\\Desktop\\Learning\\Social Networks\\Graph Learning\\Datafiles\\DegRank\\samenode\\plot1000.jpg\"\n",
    "    #path = path + str(r) + \".jpg\"\n",
    "    #print x\n",
    "    #plt.figure(r)\n",
    "    plt.title(\"Nodes :\"+str(len(G.nodes())))\n",
    "    plt.ylabel(\"Degree\")\n",
    "    plt.xlabel(\"Rank\")\n",
    "    plt.scatter(y,x,color=colors[num])\n",
    "    return path"
   ]
  },
  {
   "cell_type": "code",
   "execution_count": 50,
   "metadata": {
    "collapsed": false
   },
   "outputs": [
    {
     "name": "stdout",
     "output_type": "stream",
     "text": [
      "1000 5\n",
      "1000 15\n",
      "1000 25\n",
      "1000 36\n",
      "1000 47\n"
     ]
    }
   ],
   "source": [
    "if __name__ == \"__main__\" :\n",
    "    density = 0.01\n",
    "    for i in xrange(5) :\n",
    "        G = make_Graph(density,1000)\n",
    "        density += 0.02\n",
    "        #fig = plt.figure()\n",
    "        #ax = fig.add_subplot(111)\n",
    "        #ax.axis([0,1000,0,1000])\n",
    "        #ax.text(3,8,'R=0.1 Blk=0.3 Blu=0.5 Br=0.7 G=0.9')\n",
    "        path = count(G,i)\n",
    "        plt.show()\n",
    "        #plt.savefig(path)"
   ]
  },
  {
   "cell_type": "code",
   "execution_count": 42,
   "metadata": {
    "collapsed": true
   },
   "outputs": [],
   "source": [
    "plt.close()"
   ]
  },
  {
   "cell_type": "code",
   "execution_count": 23,
   "metadata": {
    "collapsed": false
   },
   "outputs": [
    {
     "data": {
      "text/plain": [
       "3984"
      ]
     },
     "execution_count": 23,
     "metadata": {},
     "output_type": "execute_result"
    }
   ],
   "source": [
    "G = nx.barabasi_albert_graph(1000,4)\n",
    "len(G.edges())"
   ]
  },
  {
   "cell_type": "code",
   "execution_count": 35,
   "metadata": {
    "collapsed": false
   },
   "outputs": [
    {
     "name": "stdout",
     "output_type": "stream",
     "text": [
      "502.520266179\n"
     ]
    }
   ],
   "source": [
    "d = 0.01\n",
    "n = 100000\n",
    "k = n/2 - ((n*n - 2*(n*(n-1))*d)**0.5)/2\n",
    "print k"
   ]
  },
  {
   "cell_type": "code",
   "execution_count": null,
   "metadata": {
    "collapsed": true
   },
   "outputs": [],
   "source": []
  }
 ],
 "metadata": {
  "kernelspec": {
   "display_name": "Python 2",
   "language": "python",
   "name": "python2"
  },
  "language_info": {
   "codemirror_mode": {
    "name": "ipython",
    "version": 2
   },
   "file_extension": ".py",
   "mimetype": "text/x-python",
   "name": "python",
   "nbconvert_exporter": "python",
   "pygments_lexer": "ipython2",
   "version": "2.7.11"
  }
 },
 "nbformat": 4,
 "nbformat_minor": 0
}
