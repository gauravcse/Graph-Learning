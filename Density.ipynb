{
 "cells": [
  {
   "cell_type": "code",
   "execution_count": 1,
   "metadata": {
    "collapsed": false
   },
   "outputs": [],
   "source": [
    "import networkx as nx\n",
    "import matplotlib.pyplot as plt\n",
    "import numpy as np\n",
    "import random"
   ]
  },
  {
   "cell_type": "code",
   "execution_count": 8,
   "metadata": {
    "collapsed": false
   },
   "outputs": [],
   "source": [
    "def make_Graph(density) :\n",
    "    G = nx.Graph()\n",
    "    n = random.randint(1,1000)\n",
    "    te = n*(n+1)/2\n",
    "    e = int(density * float(te))\n",
    "    print n,e\n",
    "    G = nx.dense_gnm_random_graph(n,e)\n",
    "    return G"
   ]
  },
  {
   "cell_type": "code",
   "execution_count": 9,
   "metadata": {
    "collapsed": false
   },
   "outputs": [],
   "source": [
    "def count(G,r) :\n",
    "    degree_count = dict()    # DICTIONARY THAT KEEPS COUNT OF HOW MANY VERTICES ARE THERE OF EACH DEGREE\n",
    "    for i in xrange(len(G.nodes())) :\n",
    "        degree_count[G.degree(i)] = degree_count.get(G.degree(i), 0) + 1\n",
    "    rank = dict() \t\t\t\t#STORES THE RANK CORRESPONDING TO EVERY DEGREE\n",
    "    sum = 1\n",
    "    for k in sorted(degree_count.keys(),reverse = True) :\n",
    "        rank[k] = sum\n",
    "        sum += degree_count[k]\n",
    "    plot1(G,rank,r)"
   ]
  },
  {
   "cell_type": "code",
   "execution_count": 10,
   "metadata": {
    "collapsed": false
   },
   "outputs": [],
   "source": [
    "colors = ['red', 'black', 'blue', 'brown', 'green']\n",
    "def plot1(G,rank,r) :\n",
    "    x = np.zeros(len(G.nodes()) + 5) \n",
    "    y = np.zeros(len(G.nodes()) + 5)\n",
    "    for key in rank.keys() :\n",
    "        y[key] = rank[key]\n",
    "        x[key] = key\n",
    "    path = \"C:\\Users\\Gaurav Mitra\\Desktop\\Learning\\Social Networks\\Graph Learning\\Datafiles\\DegRank\\degree5\\plot\"\n",
    "    path = path + str(r) + \".jpg\"\n",
    "    plt.figure(r)\n",
    "    plt.scatter(x,y)\n",
    "    plt.savefig(path)\n",
    "    plt.close()"
   ]
  },
  {
   "cell_type": "code",
   "execution_count": 11,
   "metadata": {
    "collapsed": false,
    "scrolled": true
   },
   "outputs": [
    {
     "name": "stdout",
     "output_type": "stream",
     "text": [
      "395 39105\n",
      "944 223020\n",
      "218 11935\n",
      "244 14945\n",
      "644 103845\n",
      "898 201825\n",
      "35 315\n",
      "62 976\n",
      "718 129060\n",
      "257 16576\n",
      "749 140437\n",
      "440 48510\n",
      "481 57960\n",
      "854 182542\n",
      "399 39900\n"
     ]
    }
   ],
   "source": [
    "if __name__ == \"__main__\" :\n",
    "    density = 0.1\n",
    "    for i in xrange(15) :\n",
    "        G = make_graph()"
   ]
  },
  {
   "cell_type": "code",
   "execution_count": null,
   "metadata": {
    "collapsed": true
   },
   "outputs": [],
   "source": []
  },
  {
   "cell_type": "code",
   "execution_count": null,
   "metadata": {
    "collapsed": true
   },
   "outputs": [],
   "source": []
  }
 ],
 "metadata": {
  "kernelspec": {
   "display_name": "Python 2",
   "language": "python",
   "name": "python2"
  },
  "language_info": {
   "codemirror_mode": {
    "name": "ipython",
    "version": 2
   },
   "file_extension": ".py",
   "mimetype": "text/x-python",
   "name": "python",
   "nbconvert_exporter": "python",
   "pygments_lexer": "ipython2",
   "version": "2.7.11"
  }
 },
 "nbformat": 4,
 "nbformat_minor": 0
}
